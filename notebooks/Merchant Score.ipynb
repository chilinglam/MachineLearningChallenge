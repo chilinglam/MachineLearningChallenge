{
 "cells": [
  {
   "cell_type": "markdown",
   "metadata": {},
   "source": [
    "# Import and Clean Data"
   ]
  },
  {
   "cell_type": "code",
   "execution_count": 1,
   "metadata": {
    "collapsed": false
   },
   "outputs": [
    {
     "name": "stdout",
     "output_type": "stream",
     "text": []
    },
    {
     "name": "stderr",
     "output_type": "stream",
     "text": []
    },
    {
     "data": {
      "text/plain": [
       "[cancel_num: int, return_num: int, merchant_id: string, root_category: string, sub_category: string, primary_category: string]"
      ]
     },
     "execution_count": 1,
     "metadata": {},
     "output_type": "execute_result"
    }
   ],
   "source": [
    "import org.apache.spark.sql.types._\n",
    "\n",
    "val transactions = sqlContext.read\n",
    "    .format(\"com.databricks.spark.csv\")\n",
    "    .option(\"header\", \"true\")\n",
    "    .option(\"inferSchema\", \"true\")\n",
    "    .load(\"s3a://databricks-dump/datalakedr/mlTest/final/transactions/part-00000\")\n",
    "    .withColumnRenamed(\"T1\", \"root_category\")\n",
    "    .withColumnRenamed(\"T2\", \"sub_category\")\n",
    "    .withColumnRenamed(\"T4\", \"primary_category\")\n",
    "\n",
    "val profitMetrics = sqlContext.read\n",
    "    .format(\"com.databricks.spark.csv\")\n",
    "    .option(\"header\", \"true\")\n",
    "    .option(\"inferSchema\", \"true\")\n",
    "    .load(\"s3a://databricks-dump/datalakedr/mlTest/final/profitMetrics/part-00000\")\n",
    "    .withColumnRenamed(\"T1\", \"root_category\")\n",
    "    .withColumnRenamed(\"T2\", \"sub_category\")\n",
    "    .withColumnRenamed(\"T4\", \"primary_category\")\n",
    "\n",
    "\n",
    "val returnedCancelledMetrics  = sqlContext.read\n",
    "    .format(\"com.databricks.spark.csv\")\n",
    "    .option(\"header\", \"true\") \n",
    "    .option(\"inferSchema\", \"true\")\n",
    "    .load(\"s3a://databricks-dump/datalakedr/mlTest/final/returnedCancelledMetrics/part-00000\")\n",
    "    .withColumnRenamed(\"T1\", \"root_category\")\n",
    "    .withColumnRenamed(\"T2\", \"sub_category\")\n",
    "    .withColumnRenamed(\"T4\", \"primary_category\")"
   ]
  },
  {
   "cell_type": "code",
   "execution_count": 5,
   "metadata": {
    "collapsed": false
   },
   "outputs": [
    {
     "name": "stdout",
     "output_type": "stream",
     "text": [
      "root\n",
      " |-- item_created_at: timestamp (nullable = true)\n",
      " |-- item_ship_by_date: timestamp (nullable = true)\n",
      " |-- qty_ordered: integer (nullable = false)\n",
      " |-- item_mrp: double (nullable = false)\n",
      " |-- item_price: double (nullable = false)\n",
      " |-- item_selling_price: double (nullable = false)\n",
      " |-- item_discount: double (nullable = false)\n",
      " |-- fulfillment_shipped_at: string (nullable = true)\n",
      " |-- fulfillment_created_at: timestamp (nullable = true)\n",
      " |-- merchant_id: string (nullable = true)\n",
      " |-- root_category: string (nullable = true)\n",
      " |-- sub_category: string (nullable = true)\n",
      " |-- primary_category: string (nullable = true)\n",
      " |-- product_id: string (nullable = true)\n",
      " |-- order_item_id: string (nullable = true)\n",
      " |-- order_id: string (nullable = true)\n",
      "\n"
     ]
    },
    {
     "name": "stderr",
     "output_type": "stream",
     "text": []
    }
   ],
   "source": [
    "transactions.printSchema"
   ]
  },
  {
   "cell_type": "code",
   "execution_count": 3,
   "metadata": {
    "collapsed": false
   },
   "outputs": [
    {
     "name": "stdout",
     "output_type": "stream",
     "text": [
      "root\n",
      " |-- commission_percent: double (nullable = false)\n",
      " |-- cashback_percent: string (nullable = true)\n",
      " |-- discount_percent: double (nullable = false)\n",
      " |-- merchant_id: string (nullable = true)\n",
      " |-- root_category: string (nullable = true)\n",
      " |-- sub_category: string (nullable = true)\n",
      " |-- primary_category: string (nullable = true)\n",
      "\n"
     ]
    },
    {
     "name": "stderr",
     "output_type": "stream",
     "text": []
    }
   ],
   "source": [
    "profitMetrics.printSchema"
   ]
  },
  {
   "cell_type": "code",
   "execution_count": 31,
   "metadata": {
    "collapsed": false
   },
   "outputs": [
    {
     "name": "stdout",
     "output_type": "stream",
     "text": [
      "root\n",
      " |-- cancel_num: integer (nullable = true)\n",
      " |-- return_num: integer (nullable = true)\n",
      " |-- merchant_id: string (nullable = true)\n",
      " |-- root_category: string (nullable = true)\n",
      " |-- sub_category: string (nullable = true)\n",
      " |-- primary_category: string (nullable = true)\n",
      "\n"
     ]
    },
    {
     "name": "stderr",
     "output_type": "stream",
     "text": []
    }
   ],
   "source": [
    "returnedCancelledMetrics.printSchema"
   ]
  },
  {
   "cell_type": "markdown",
   "metadata": {},
   "source": [
    "# Compute efficiency Metrics"
   ]
  },
  {
   "cell_type": "markdown",
   "metadata": {},
   "source": [
    "Two metrics are calculated to measure the efficiency of merchants in terms of pricing and shipping. \n",
    "\n",
    "The pricing efficiency is calculated based on the assumption that if the merchant can offer better price than the mrp price for a particular item, it means that they have better channels for sourcing the item and therefore the merchant score should be higher.\n",
    "\n",
    "The shipping efficiency is calculated based on the expected number of days that an item will be delivered to the customer from the time the time order is submitted by the user versus the actual number of days that the item arrives. The faster the item arrives the higher the merchant score. \n",
    "\n",
    "All scores are weighted by the quantity of the order and it will be nornmalized by the total order at the primary category level."
   ]
  },
  {
   "cell_type": "code",
   "execution_count": null,
   "metadata": {
    "collapsed": false
   },
   "outputs": [],
   "source": [
    "import sqlContext.implicits._\n",
    "import org.apache.spark.sql.functions._\n",
    "val efficiency = transactions\n",
    "    .withColumn(\"expected_days\", datediff($\"item_ship_by_date\",$\"item_created_at\"))\n",
    "    .withColumn(\"actual_days\", datediff($\"fulfillment_shipped_at\",$\"item_created_at\"))\n",
    "    .withColumn(\"item_price_efficiency\", ($\"item_mrp\" - $\"item_price\" + $\"item_discount\")/$\"item_mrp\")\n",
    "    .select($\"root_category\",\n",
    "            $\"sub_category\",\n",
    "            $\"primary_category\",\n",
    "            $\"merchant_id\",\n",
    "            $\"qty_ordered\",\n",
    "            ($\"expected_days\" - $\"actual_days\")/$\"expected_days\" * $\"qty_ordered\" as \"shipping_efficiency\", \n",
    "            $\"item_price_efficiency\" * $\"qty_ordered\" as \"price_efficiency\")\n",
    "    .groupBy($\"merchant_id\", $\"root_category\", $\"sub_category\", $\"primary_category\")\n",
    "    .agg(\n",
    "        sum($\"qty_ordered\") as \"total_orders\",\n",
    "        sum($\"shipping_efficiency\") as \"shipping_efficiency\",\n",
    "        sum($\"price_efficiency\") as \"price_efficiency\"\n",
    "    ).na.fill(0)"
   ]
  },
  {
   "cell_type": "code",
   "execution_count": 8,
   "metadata": {
    "collapsed": false
   },
   "outputs": [
    {
     "name": "stdout",
     "output_type": "stream",
     "text": [
      "+--------------------+--------------------+--------------------+--------------------+------------+-------------------+-------------------+\n",
      "|         merchant_id|       root_category|        sub_category|    primary_category|total_orders|shipping_efficiency|   price_efficiency|\n",
      "+--------------------+--------------------+--------------------+--------------------+------------+-------------------+-------------------+\n",
      "|ed86eaf4f8b892e9f...|bf8dd8c68d02e161c...|c7502c55f8db54062...|fef6f971605336724...|         145|  68.63333333333333|  -0.91324200913242|\n",
      "|ed86eaf4f8b892e9f...|bf8dd8c68d02e161c...|c7502c55f8db54062...|b6f8dc086b2d60c58...|         298| 138.60000000000002|-0.7722007722007722|\n",
      "|988969200cb769535...|faefec47428cf9a2f...|d372a8a4e6dca1c27...|4258736785df42c82...|           2| 1.0833333333333333|-0.5666666666666667|\n",
      "|1146d96286ade57a9...|20e7f31e77cd39cde...|d2eb3bf91af83314f...|9a2e8514e94644ccf...|        7901| -574.0714285714289|                0.0|\n",
      "|a5e5bc0af001017b9...|52c69e3a573310818...|bf8dd8c68d02e161c...|9718db12cae6be37f...|        1629|-231.26666666666662|                0.0|\n",
      "|a5e5bc0af001017b9...|52c69e3a573310818...|1f506914272764813...|04da4aea8e38ac933...|        1667|-226.06666666666663|                0.0|\n",
      "|ca0a9238539a32388...|bf8dd8c68d02e161c...|b56522cb95aa89c20...|274231193c4e40abc...|         428|-214.41666666666663|                0.0|\n",
      "|0db0c239f5e85b20a...|20e7f31e77cd39cde...|729b4e7a67f295ec3...|86db3b646f1bf959e...|        1142| -141.7333333333333|                0.0|\n",
      "|302996bd24e8a0e7b...|bf8dd8c68d02e161c...|b56522cb95aa89c20...|5e2b66750529d8ae8...|         295|-132.83333333333334|                0.0|\n",
      "|ca0a9238539a32388...|bf8dd8c68d02e161c...|b56522cb95aa89c20...|9d27fdf2477ffbff8...|         432|-128.41666666666669|                0.0|\n",
      "|302996bd24e8a0e7b...|bf8dd8c68d02e161c...|b56522cb95aa89c20...|274231193c4e40abc...|         498|-109.71666666666668|                0.0|\n",
      "|196b8872e7be15c1f...|f702defbc67edb455...|98a361c41dd6204d4...|4fd3f5fed2d59efc8...|         293|-101.23333333333333|                0.0|\n",
      "|9f86fcd5de31459d5...|1f506914272764813...|cba2a355dc11678a8...|626fbe83f8c7f2670...|         857| -98.36666666666665|                0.0|\n",
      "|960b73e336734a9e4...|9df81829c4ebc9c42...|ccf0304d099baecfb...|d20f6cbf98b2efd68...|         464| -98.30952380952374|                0.0|\n",
      "|c545987fb970f7b1f...|f702defbc67edb455...|98a361c41dd6204d4...|3963a8bf5fefec02b...|         291| -95.61666666666665|                0.0|\n",
      "|192e289694724c3ec...|20e7f31e77cd39cde...|841062598995b44b0...|771f0d31d33443527...|        1462| -83.20000000000002|                0.0|\n",
      "|0db0c239f5e85b20a...|20e7f31e77cd39cde...|729b4e7a67f295ec3...|5881fccfa15a85aaf...|         704| -73.33333333333334|                0.0|\n",
      "|a5e5bc0af001017b9...|52c69e3a573310818...|bf8dd8c68d02e161c...|4aeae10ea1c6433c9...|         515|             -69.15|                0.0|\n",
      "|ca0a9238539a32388...|1f506914272764813...|cba2a355dc11678a8...|2a8a8bde56a1a353f...|         578| -63.08333333333333|                0.0|\n",
      "|ca0a9238539a32388...|1f506914272764813...|cba2a355dc11678a8...|9b8ef27229c421986...|          59|              -55.5|                0.0|\n",
      "+--------------------+--------------------+--------------------+--------------------+------------+-------------------+-------------------+\n",
      "only showing top 20 rows\n",
      "\n"
     ]
    },
    {
     "name": "stderr",
     "output_type": "stream",
     "text": []
    }
   ],
   "source": [
    "efficiency.orderBy($\"price_efficiency\".asc, $\"shipping_efficiency\".asc).show()"
   ]
  },
  {
   "cell_type": "markdown",
   "metadata": {},
   "source": [
    "# Compute Profit Metrics"
   ]
  },
  {
   "cell_type": "markdown",
   "metadata": {},
   "source": [
    "To calculate the net paytm net profit, the cash back percent is deducted from the commission percent. Discount percent offered by merchant is considered a reduction of the net profit."
   ]
  },
  {
   "cell_type": "code",
   "execution_count": 3,
   "metadata": {
    "collapsed": false
   },
   "outputs": [
    {
     "name": "stdout",
     "output_type": "stream",
     "text": []
    },
    {
     "name": "stderr",
     "output_type": "stream",
     "text": []
    },
    {
     "data": {
      "text/plain": [
       "[merchant_id: string, root_category: string, sub_category: string, primary_category: string, actual_profit_percent: double]"
      ]
     },
     "execution_count": 3,
     "metadata": {},
     "output_type": "execute_result"
    }
   ],
   "source": [
    "val profit = profitMetrics\n",
    ".withColumn(\"actual_profit_percent\", ($\"commission_percent\"  - $\"cashback_percent\") * (lit(1) - $\"discount_percent\"))\n",
    ".select(\"merchant_id\", \"root_category\", \"sub_category\", \"primary_category\", \"actual_profit_percent\").na.fill(0)"
   ]
  },
  {
   "cell_type": "code",
   "execution_count": 10,
   "metadata": {
    "collapsed": false
   },
   "outputs": [
    {
     "name": "stdout",
     "output_type": "stream",
     "text": [
      "+--------------------+--------------------+--------------------+--------------------+---------------------+\n",
      "|         merchant_id|       root_category|        sub_category|    primary_category|actual_profit_percent|\n",
      "+--------------------+--------------------+--------------------+--------------------+---------------------+\n",
      "|f713432c65b6b19ad...|c4b8bb990423f770d...|cc298d5bc587e1b65...|daed210307f1dbc6f...|            -0.928788|\n",
      "|1551cdfa10908c237...|dc36f18a9a0a77667...|f752582986d70327a...|b7852f3d3a775b518...|  -0.9118610169491526|\n",
      "|1551cdfa10908c237...|dc36f18a9a0a77667...|324545ee1d35608f4...|c9e37c28ce5852218...|  -0.9118606606606606|\n",
      "|da9cc4cc759d7b03b...|f702defbc67edb455...|98a361c41dd6204d4...|4fd3f5fed2d59efc8...|             -0.91098|\n",
      "|192e6a98f4986c6c3...|f702defbc67edb455...|98a361c41dd6204d4...|92cf1d861842f9b7b...|             -0.91098|\n",
      "|9b44f920ec0d026a2...|f702defbc67edb455...|98a361c41dd6204d4...|9403726f748a52982...|  -0.9109799599198397|\n",
      "|4fd04fbeeb9aabf2f...|f702defbc67edb455...|543f040479c7e7c41...|14ddc5c5bbb2f4845...|  -0.8849514285714285|\n",
      "|1551cdfa10908c237...|dc36f18a9a0a77667...|969a086e0717a9b49...|b71db38e48ca853f4...|  -0.8837609410689812|\n",
      "|1551cdfa10908c237...|dc36f18a9a0a77667...|126c2da128e5b044d...|9b798c632ca71d5d5...|  -0.8795961352657006|\n",
      "|1551cdfa10908c237...|dc36f18a9a0a77667...|f752582986d70327a...|0607f4c705595b911...|  -0.8776175592625111|\n",
      "|560eb60373b30a42b...|20e7f31e77cd39cde...|69930733ad15478fd...|2de71582a218719fe...|  -0.8665094549499444|\n",
      "|8c0592c2f4067cf98...|dc36f18a9a0a77667...|ab6b331e94c28169d...|0555bb36e8cfb7af4...|  -0.8652960457412865|\n",
      "|e5fa7b87e1c419240...|f702defbc67edb455...|93a27b0bd99bac3e6...|7fe3d16a83f683a0a...|    -0.86064114490161|\n",
      "|b02c89251106e1fdd...|20e7f31e77cd39cde...|7f6411f044f4af764...|61b80b3c2e4d6c208...|  -0.8474729389553177|\n",
      "|bdd8ed95b54e6d5e0...|dc36f18a9a0a77667...|65d21a7a6d0b2a830...|74d1e312f2320de5a...|  -0.8441791065118627|\n",
      "|1551cdfa10908c237...|dc36f18a9a0a77667...|324545ee1d35608f4...|ef452c63f81d0105d...|  -0.8098179999999999|\n",
      "|f713432c65b6b19ad...|c4b8bb990423f770d...|312c605d05e4be431...|382ffdbd9ec437f2e...|            -0.799395|\n",
      "|c20f3fd71bd6e1b66...|f702defbc67edb455...|543f040479c7e7c41...|14ddc5c5bbb2f4845...|             -0.79913|\n",
      "|467e7933a50c5ad5e...|dc36f18a9a0a77667...|cf7065ddd8146156c...|1580cb083169e06b7...|  -0.7862530747596861|\n",
      "|1551cdfa10908c237...|dc36f18a9a0a77667...|324545ee1d35608f4...|d20d9896e5f7a733d...|  -0.7636249045072574|\n",
      "+--------------------+--------------------+--------------------+--------------------+---------------------+\n",
      "only showing top 20 rows\n",
      "\n"
     ]
    },
    {
     "name": "stderr",
     "output_type": "stream",
     "text": []
    }
   ],
   "source": [
    "profit.orderBy($\"actual_profit_percent\".asc).show"
   ]
  },
  {
   "cell_type": "markdown",
   "metadata": {},
   "source": [
    "# Aggregate metrics per merchant"
   ]
  },
  {
   "cell_type": "markdown",
   "metadata": {},
   "source": [
    "Finally, we aggregate the above calculations by merchant weighted by the total orders "
   ]
  },
  {
   "cell_type": "code",
   "execution_count": 4,
   "metadata": {
    "collapsed": false
   },
   "outputs": [
    {
     "name": "stdout",
     "output_type": "stream",
     "text": []
    },
    {
     "name": "stderr",
     "output_type": "stream",
     "text": []
    },
    {
     "data": {
      "text/plain": [
       "[merchant_id: string, avg_shipping_efficiency: double, avg_price_efficiency: double, return_rate: double, cancel_rate: double, avg_profit_percent: double]"
      ]
     },
     "execution_count": 4,
     "metadata": {},
     "output_type": "execute_result"
    }
   ],
   "source": [
    "val scoreMetrics = efficiency.join(profit, Seq(\"root_category\", \"sub_category\",\"primary_category\",\"merchant_id\"))\n",
    "          .join(returnedCancelledMetrics, Seq(\"root_category\", \"sub_category\",\"primary_category\",\"merchant_id\"))\n",
    "          .withColumn(\"actual_avg_profit\", $\"total_orders\" * $\"actual_profit_percent\")\n",
    "          .groupBy(\"merchant_id\")\n",
    "          .agg(sum(\"total_orders\") as \"total\", \n",
    "               sum(\"actual_avg_profit\") as \"total_actual_profit_percent\", \n",
    "               sum(\"cancel_num\") as \"total_cancel_num\", \n",
    "               sum(\"return_num\") as \"total_return_num\", \n",
    "               sum(\"shipping_efficiency\") as \"total_shipping_efficiency\",\n",
    "               sum(\"price_efficiency\" ) as \"total_price_efficiency\")\n",
    "          .select($\"merchant_id\",\n",
    "                  $\"total_shipping_efficiency\"/$\"total\" as \"avg_shipping_efficiency\",\n",
    "                  $\"total_price_efficiency\"/$\"total\" as \"avg_price_efficiency\",\n",
    "                  $\"total_return_num\"/$\"total\" as \"return_rate\",\n",
    "                  $\"total_cancel_num\"/$\"total\" as \"cancel_rate\",\n",
    "                  $\"total_actual_profit_percent\"/$\"total\" as \"avg_profit_percent\")"
   ]
  },
  {
   "cell_type": "code",
   "execution_count": 122,
   "metadata": {
    "collapsed": false
   },
   "outputs": [
    {
     "name": "stdout",
     "output_type": "stream",
     "text": [
      "+--------------------------------+-----------------------+--------------------+-------------------+--------------------+--------------------+\n",
      "|merchant_id                     |avg_shipping_efficiency|avg_price_efficiency|return_rate        |cancel_rate         |avg_profit_percent  |\n",
      "+--------------------------------+-----------------------+--------------------+-------------------+--------------------+--------------------+\n",
      "|47d23d35ab19f03c6bdc7d1b4d03cd13|0.23958333333333331    |0.3750236262233663  |0.0                |0.125               |-0.19421969884161433|\n",
      "|4556ed716bc312dff084dd743caeca87|0.6208459185698139     |0.008600117697962964|0.07308089945722408|0.1134660118893771  |-0.23397497388553923|\n",
      "|1687c811b0829bc670b2b2f4fa536beb|0.6739130434782608     |0.5926703708561616  |0.10144927536231885|0.043478260869565216|-0.04005331744247771|\n",
      "|70511774a5ebef510ae7404853a12177|-0.25                  |0.47393364928909953 |1.0                |0.0                 |0.026934702474986836|\n",
      "|07e11194ae0cf612a6d02dfddca524bd|0.3316506668227626     |0.15452133881167782 |0.16963736939151813|0.1576521204671174  |-0.17367029522091257|\n",
      "|9b44f920ec0d026a26a48bcac4dcba2a|0.6434261897224861     |0.01912774495074644 |0.04938271604938271|0.12345679012345678 |-0.1629268384820134 |\n",
      "|5b1ddd68bf83ddf581f02abecf0fac97|0.34934640522875815    |0.19334875203152999 |0.0                |0.0                 |-0.08827490135921418|\n",
      "|40eae2780e80243bf0324b4557ee2fd8|0.597336860670194      |0.14702655207309287 |0.0                |0.14444444444444443 |-0.13620545860301153|\n",
      "|eb18a6c720d5e836aa260967c230f437|0.6444444444444444     |0.73576183469274    |0.13333333333333333|0.03333333333333333 |0.01497160106827112 |\n",
      "|1e6f5af373bf2de5a410baec413d187b|0.7388888888888889     |0.3278562513067585  |0.16666666666666666|0.0                 |-0.12489753870214992|\n",
      "+--------------------------------+-----------------------+--------------------+-------------------+--------------------+--------------------+\n",
      "only showing top 10 rows\n",
      "\n"
     ]
    },
    {
     "name": "stderr",
     "output_type": "stream",
     "text": []
    }
   ],
   "source": [
    "scoreMetrics.show(10, false)"
   ]
  },
  {
   "cell_type": "markdown",
   "metadata": {},
   "source": [
    "# Compute Final Score "
   ]
  },
  {
   "cell_type": "markdown",
   "metadata": {},
   "source": [
    "The universal score is then computed based on the 5 metrics we calculated. The interpretation of the score is as follows:\n",
    "1. A positive score means the merchant usually exceeds expectation\n",
    "2. A 0 score means the merchant meets expectation\n",
    "3. A negative score means the merchant needs improvement on the 5 metrics we measured\n"
   ]
  },
  {
   "cell_type": "code",
   "execution_count": 6,
   "metadata": {
    "collapsed": false
   },
   "outputs": [
    {
     "name": "stdout",
     "output_type": "stream",
     "text": [
      "+--------------------------------+-------------------+\n",
      "|merchant_id                     |merchant_score     |\n",
      "+--------------------------------+-------------------+\n",
      "|4556ed716bc312dff084dd743caeca87|0.3927705718825911 |\n",
      "|fec9ebe81dc34da06ac1f4eff8c8f130|0.3310599204814085 |\n",
      "|9b44f920ec0d026a26a48bcac4dcba2a|0.49365170767703126|\n",
      "|226b5bf02bf8b97501335e2792e5abc7|0.9818455702650739 |\n",
      "|8c47f7c40acb430047f501a2d5345776|0.2541409472775181 |\n",
      "|aadda33446a0633e97539c0c7f0b177b|0.4213308373066574 |\n",
      "|fe44357bd46c876f41203d9ee440c0a7|0.8366666666666667 |\n",
      "|f3af38a9500cfc72614a7cb788e5a56b|0.7222505555555555 |\n",
      "|dbd667d1742d1abf65e1c74f96f940c3|0.36991095814117664|\n",
      "|32a2bacb528ea401c06b17376cad237e|0.5439791896832656 |\n",
      "+--------------------------------+-------------------+\n",
      "only showing top 10 rows\n",
      "\n"
     ]
    },
    {
     "name": "stderr",
     "output_type": "stream",
     "text": []
    }
   ],
   "source": [
    "val score = scoreMetrics.select( \n",
    "                $\"merchant_id\",\n",
    "                $\"avg_profit_percent\" * (lit(1) - $\"return_rate\" - $\"cancel_rate\") as \"profit_score\",\n",
    "                $\"avg_shipping_efficiency\" * (lit(1) - $\"return_rate\") as \"shipping_score\",\n",
    "                $\"avg_price_efficiency\" * (lit(1) - $\"cancel_rate\") as \"price_score\"\n",
    "            )\n",
    "            .select($\"merchant_id\", $\"profit_score\" + $\"shipping_score\" + $\"price_score\" as \"merchant_score\")\n",
    "            .show(10, false)"
   ]
  },
  {
   "cell_type": "code",
   "execution_count": null,
   "metadata": {
    "collapsed": true
   },
   "outputs": [],
   "source": []
  }
 ],
 "metadata": {
  "kernelspec": {
   "display_name": "spark",
   "language": "scala",
   "name": "spark"
  },
  "language_info": {
   "name": "scala",
   "version": "2.10.4"
  }
 },
 "nbformat": 4,
 "nbformat_minor": 0
}
